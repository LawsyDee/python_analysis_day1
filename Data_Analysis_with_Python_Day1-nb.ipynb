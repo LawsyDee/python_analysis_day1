{
 "cells": [
  {
   "cell_type": "markdown",
   "metadata": {
    "slideshow": {
     "slide_type": "slide"
    }
   },
   "source": [
    "# Data Analysis with Python\n",
    "\n",
    "### Instructors: Laura Drummer and Corey Petty\n",
    "### Summer 2017\n",
    "\n",
    "-------------------------\n"
   ]
  },
  {
   "cell_type": "markdown",
   "metadata": {
    "slideshow": {
     "slide_type": "slide"
    }
   },
   "source": [
    "###  Objectives:\n",
    "<ul>\n",
    "<li>Learn to love IPython and the Jupyter Notebook.</li>\n",
    "<li>Understand how to query, manipulate and analyze structured data. </li>\n",
    "<li>Develop a basic understanding of data visualization.</li>\n",
    "<li>Remove the shroud of mystery surroudind data science</li>\n",
    "</ul>\n",
    "\n",
    "----------------"
   ]
  },
  {
   "cell_type": "markdown",
   "metadata": {
    "slideshow": {
     "slide_type": "slide"
    }
   },
   "source": [
    "###   Housekeeping:\n",
    "<ul>\n",
    "<li>Attendance (Thursdays from 4 -7)</li>\n",
    "<li>Format: Short Lectures with Lots of Hands On Exercises</li>\n",
    "<li>Break for Dinner</li>\n",
    "<li>Training Hours (with TD approval)</li>\n",
    "<li>Ask Questions and Give Feedback</li>\n",
    "</ul>\n",
    "\n",
    "----------------"
   ]
  },
  {
   "cell_type": "markdown",
   "metadata": {
    "slideshow": {
     "slide_type": "slide"
    }
   },
   "source": [
    "# Course Outline\n"
   ]
  },
  {
   "cell_type": "markdown",
   "metadata": {
    "slideshow": {
     "slide_type": "fragment"
    }
   },
   "source": [
    "### Day 1: Data wrangling with Python\n",
    "<ul>\n",
    "<li>Interacting with APIs (getting data)</li>\n",
    "<li>Data Formats</li>\n",
    "<li>Normalizing Data</li>\n",
    "</ul>"
   ]
  },
  {
   "cell_type": "markdown",
   "metadata": {
    "slideshow": {
     "slide_type": "fragment"
    }
   },
   "source": [
    "### Day 2: Exploring Data Using Python\n",
    "<ul>\n",
    "<li>Manipulating Data with Pandas and Other Scientific Libraries</li>\n",
    "</ul>"
   ]
  },
  {
   "cell_type": "markdown",
   "metadata": {
    "slideshow": {
     "slide_type": "fragment"
    }
   },
   "source": [
    "### Day 3: Analytic Libraries Overview part 1\n",
    "<ul>\n",
    "<li>SK Learn – Overview of machine learning</li>\n",
    "<li>NetworkX – Graph Analysis Library</li>\n",
    "</ul>"
   ]
  },
  {
   "cell_type": "markdown",
   "metadata": {
    "slideshow": {
     "slide_type": "fragment"
    }
   },
   "source": [
    "### Day 4: Analytic Libraries Overview part 2\n",
    "<ul>\n",
    "<li>NetorkX – Graph Analysis Library (continued)</li>\n",
    "<li>NLTK – Overview of Natural Language Processing</li>\n",
    "</ul>\n",
    "\n",
    "---------------"
   ]
  },
  {
   "cell_type": "markdown",
   "metadata": {
    "slideshow": {
     "slide_type": "slide"
    }
   },
   "source": [
    "# Overview of Anacondas\n",
    "\n",
    "<ul>\n",
    "<li>Distribution aimed at big data and statistical analytics</li>\n",
    "<li>Packaged with numpy, scipy, pandas, matplotlib, and Ipython</li>\n",
    "<li>Packaged with Jupyter Notebooks and Spyder IDE</li>\n",
    "<li>Execute-Explore Workflow</li>\n",
    "</ul>\n",
    "\n",
    "----------------"
   ]
  },
  {
   "cell_type": "markdown",
   "metadata": {},
   "source": [
    "### Quick Jupyter Tutorial\n"
   ]
  },
  {
   "cell_type": "markdown",
   "metadata": {},
   "source": [
    "<p>An IPython notebook is made up of a number of <strong>cells</strong>. Each cell can contain\n",
    "Python code. You can execute a cell by clicking on it and pressing <code>Shift-Enter</code>.\n",
    "When you do so, the code in the cell will run, and the output of the cell\n",
    "will be displayed beneath the cell.</p> \n",
    "\n",
    "<p>For example, press <code>Shift-Enter</code> to run the first cell:</p>"
   ]
  },
  {
   "cell_type": "code",
   "execution_count": 44,
   "metadata": {
    "collapsed": false
   },
   "outputs": [
    {
     "name": "stdout",
     "output_type": "stream",
     "text": [
      "2\n"
     ]
    }
   ],
   "source": [
    "x = 1 + 1\n",
    "print(x)"
   ]
  },
  {
   "cell_type": "markdown",
   "metadata": {},
   "source": [
    "<p>Global variables are shared between cells. Executing the second cell thus gives the following result:</p>"
   ]
  },
  {
   "cell_type": "code",
   "execution_count": 45,
   "metadata": {
    "collapsed": false
   },
   "outputs": [
    {
     "name": "stdout",
     "output_type": "stream",
     "text": [
      "4\n"
     ]
    }
   ],
   "source": [
    "y = 2 * x\n",
    "print(y)"
   ]
  },
  {
   "cell_type": "markdown",
   "metadata": {},
   "source": [
    "<p>By convention, IPython notebooks are expected to be run from top to bottom. Failing to execute some cells or executing cells out of order can result in errors.</p>"
   ]
  },
  {
   "cell_type": "markdown",
   "metadata": {},
   "source": [
    "<p>After you have modified an IPython notebook for one of the assignments by\n",
    "modifying or executing some of its cells, remember to <strong>save your changes!</strong></p>\n",
    "\n",
    "<div class=\"fig figcenter\">\n",
    "  <img src=\"http://cs231n.github.io/assets/ipython-tutorial/save-notebook.png\" />\n",
    "</div>"
   ]
  },
  {
   "cell_type": "markdown",
   "metadata": {},
   "source": [
    "### Exercise 1 - Knocking the cobwebs off:\n",
    "----\n",
    "\n",
    "#### Using Jupyer Notebook, write a script that Reads in 'exercise1.csv' and prints out the names of the employees who work in the sales department and make over $50,00 a year."
   ]
  },
  {
   "cell_type": "code",
   "execution_count": 46,
   "metadata": {
    "collapsed": false
   },
   "outputs": [
    {
     "data": {
      "text/plain": [
       "'Alexander,Teresa,Sales,40000,10/15/15\\n'"
      ]
     },
     "execution_count": 46,
     "metadata": {},
     "output_type": "execute_result"
    }
   ],
   "source": [
    "#----hint to get you started----\n",
    "# what's the data look like?\n",
    "data = 'data/exercise1.csv'\n",
    "\n",
    "with open(data) as d:\n",
    "    first_line = d.readline()\n",
    "first_line"
   ]
  },
  {
   "cell_type": "code",
   "execution_count": null,
   "metadata": {
    "collapsed": true
   },
   "outputs": [],
   "source": []
  },
  {
   "cell_type": "code",
   "execution_count": null,
   "metadata": {
    "collapsed": true
   },
   "outputs": [],
   "source": []
  },
  {
   "cell_type": "code",
   "execution_count": null,
   "metadata": {
    "collapsed": true
   },
   "outputs": [],
   "source": []
  },
  {
   "cell_type": "code",
   "execution_count": null,
   "metadata": {
    "collapsed": true
   },
   "outputs": [],
   "source": []
  },
  {
   "cell_type": "markdown",
   "metadata": {
    "slideshow": {
     "slide_type": "slide"
    }
   },
   "source": [
    "## Getting the Data\n",
    "\n",
    "<ul>\n",
    "<li>API Basics</li>\n",
    "<li>RESTful Web Services</li>\n",
    "<li>Using Python for API Calls</li>\n",
    "<li>Data Formats (CSV, XML, JSON)</li>\n",
    "</ul>\n",
    "\n",
    "------"
   ]
  },
  {
   "cell_type": "markdown",
   "metadata": {
    "collapsed": true,
    "slideshow": {
     "slide_type": "slide"
    }
   },
   "source": [
    "## API Basics\n",
    "\n",
    "![Client Server](http://3.bp.blogspot.com/-wiFTWOP5cRo/U7NqdzVI2iI/AAAAAAAAAi0/Q-3CU7YHhpU/s1600/client+server.png)"
   ]
  },
  {
   "cell_type": "markdown",
   "metadata": {
    "slideshow": {
     "slide_type": "slide"
    }
   },
   "source": [
    "### API Basics\n",
    "<p>API == Application Programming Interface</p>\n",
    "<p>Specifies ways a program can interact with an application</p>\n",
    "<p>Authentication, classes, methods, important URLs</p>\n",
    "<p>Can have defined remote calls: SOAP/REST</p>\n",
    "\n",
    "----\n"
   ]
  },
  {
   "cell_type": "markdown",
   "metadata": {
    "slideshow": {
     "slide_type": "slide"
    }
   },
   "source": [
    "### RESTful Web Services\n",
    "\n",
    "<p>REST == \"REpresentational State Transfer\"</p>\n",
    "<p>Resource-based (things not actions)</p>\n",
    "<p>Representation of Data (JSON or XML)</p>\n",
    "<p>Uniform Interface (HTTP verbs and URIs)</p>\n",
    "<p>Statelessness (self-descriptive messages)</p>\n",
    "<p>Client-Server (assume disconnected system)</p>\n",
    "\n",
    "---\n",
    "\n"
   ]
  },
  {
   "cell_type": "markdown",
   "metadata": {},
   "source": [
    "### Our RESTful API\n",
    "\n",
    "<p> We will be using the ComicVine database for all of our API exercises today.</p>\n",
    "<p> An example webpage can be found here:</p>\n",
    "\n",
    "https://comicvine.gamespot.com/alfred-pennyworth/4005-5556/\n",
    "\n",
    "<p>The API Documentation can be found here:</p>\n",
    "https://comicvine.gamespot.com/api/documentation"
   ]
  },
  {
   "cell_type": "code",
   "execution_count": 47,
   "metadata": {
    "collapsed": false,
    "slideshow": {
     "slide_type": "slide"
    }
   },
   "outputs": [
    {
     "name": "stdout",
     "output_type": "stream",
     "text": [
      "http://www.comicvine.com/api/character/4005-5556/?api_key=744d012c843a3c94e106f1b0ca16d182f7ecfc5b&field_list=name,powers&format=JSON\n",
      "{'error': 'OK',\n",
      " 'limit': 1,\n",
      " 'number_of_page_results': 1,\n",
      " 'number_of_total_results': 1,\n",
      " 'offset': 0,\n",
      " 'results': {'name': 'Alfred Pennyworth',\n",
      "             'powers': [{'api_detail_url': 'https://comicvine.gamespot.com/api/power/4035-4/',\n",
      "                         'id': 4,\n",
      "                         'name': 'Agility'},\n",
      "                        {'api_detail_url': 'https://comicvine.gamespot.com/api/power/4035-5/',\n",
      "                         'id': 5,\n",
      "                         'name': 'Stamina'},\n",
      "                        {'api_detail_url': 'https://comicvine.gamespot.com/api/power/4035-9/',\n",
      "                         'id': 9,\n",
      "                         'name': 'Intellect'},\n",
      "                        {'api_detail_url': 'https://comicvine.gamespot.com/api/power/4035-34/',\n",
      "                         'id': 34,\n",
      "                         'name': 'Unarmed Combat'},\n",
      "                        {'api_detail_url': 'https://comicvine.gamespot.com/api/power/4035-35/',\n",
      "                         'id': 35,\n",
      "                         'name': 'Gadgets'},\n",
      "                        {'api_detail_url': 'https://comicvine.gamespot.com/api/power/4035-58/',\n",
      "                         'id': 58,\n",
      "                         'name': 'Escape Artist'},\n",
      "                        {'api_detail_url': 'https://comicvine.gamespot.com/api/power/4035-108/',\n",
      "                         'id': 108,\n",
      "                         'name': 'Marksmanship'}]},\n",
      " 'status_code': 1,\n",
      " 'version': '1.0'}\n"
     ]
    }
   ],
   "source": [
    "import json,pprint,requests\n",
    "\n",
    "user_agent = \"Chrome/57.0.2987.133\"\n",
    "\n",
    "api_url = 'http://www.comicvine.com/api/character/'#accesses the 'character' resource in the API\n",
    "api_key = '744d012c843a3c94e106f1b0ca16d182f7ecfc5b'#put your key here\n",
    "character = '4005-5556'#unique identifier for Alfred Pennyworth\n",
    "fields = 'name,powers'#field names you want to return\n",
    "data_type = 'JSON'#data format\n",
    "\n",
    "full_url = (api_url +\n",
    "            character +\n",
    "            '/?api_key=' + api_key +\n",
    "            '&field_list=' + fields +\n",
    "            '&format=' + data_type)\n",
    "\n",
    "print(full_url)#print url out if you need to debug an error response\n",
    " \n",
    "request = requests.get(full_url, headers = {'user-agent': user_agent} )\n",
    "\n",
    "response = request.text\n",
    "\n",
    "json_data = json.loads(response)\n",
    "pprint.pprint(json_data)"
   ]
  },
  {
   "cell_type": "markdown",
   "metadata": {
    "slideshow": {
     "slide_type": "slide"
    }
   },
   "source": [
    "### Exercise 2 - Play with APIs:\n",
    "----\n",
    "| Character         | URI         | Fields      |\n",
    "|-------------------|-------------|-------------|\n",
    "| Jarvis            | 4005-1781   | real_name   |\n",
    "| Deadpool          | 4005-7606   | powers      |\n",
    "| Ms. Marvel        | 4005-21561  | teams       |\n",
    "| Baymax            | 4005-5023   | gender      |\n",
    "| Superman          | 4005-1807   | aliases     |\n",
    "| The Scarlet Witch | 4005-1466   | birth       |\n",
    "| Groot             | 4005-24341  | team_enemies|\n",
    "| Batman            | 4005-1699   | movies      |\n",
    "| Ironman           | 4005-1455   | description |\n",
    "| Homer Simpson     | 4005-3399   | publisher   |\n",
    "\n",
    "#### Change the values for 'character', 'fields' and 'format' to explore the comicvine API.\n"
   ]
  },
  {
   "cell_type": "code",
   "execution_count": 35,
   "metadata": {
    "collapsed": false
   },
   "outputs": [
    {
     "name": "stdout",
     "output_type": "stream",
     "text": [
      "{'error': 'OK',\n",
      " 'limit': 1,\n",
      " 'number_of_page_results': 1,\n",
      " 'number_of_total_results': 1,\n",
      " 'offset': 0,\n",
      " 'results': {'name': 'Alfred Pennyworth',\n",
      "             'powers': [{'api_detail_url': 'https://comicvine.gamespot.com/api/power/4035-4/',\n",
      "                         'id': 4,\n",
      "                         'name': 'Agility'},\n",
      "                        {'api_detail_url': 'https://comicvine.gamespot.com/api/power/4035-5/',\n",
      "                         'id': 5,\n",
      "                         'name': 'Stamina'},\n",
      "                        {'api_detail_url': 'https://comicvine.gamespot.com/api/power/4035-9/',\n",
      "                         'id': 9,\n",
      "                         'name': 'Intellect'},\n",
      "                        {'api_detail_url': 'https://comicvine.gamespot.com/api/power/4035-34/',\n",
      "                         'id': 34,\n",
      "                         'name': 'Unarmed Combat'},\n",
      "                        {'api_detail_url': 'https://comicvine.gamespot.com/api/power/4035-35/',\n",
      "                         'id': 35,\n",
      "                         'name': 'Gadgets'},\n",
      "                        {'api_detail_url': 'https://comicvine.gamespot.com/api/power/4035-58/',\n",
      "                         'id': 58,\n",
      "                         'name': 'Escape Artist'},\n",
      "                        {'api_detail_url': 'https://comicvine.gamespot.com/api/power/4035-108/',\n",
      "                         'id': 108,\n",
      "                         'name': 'Marksmanship'}]},\n",
      " 'status_code': 1,\n",
      " 'version': '1.0'}\n"
     ]
    }
   ],
   "source": [
    "import json,pprint,requests\n",
    "\n",
    "user_agent = \"Chrome/57.0.2987.133\"\n",
    "\n",
    "api_url = 'http://www.comicvine.com/api/character/'\n",
    "api_key = '744d012c843a3c94e106f1b0ca16d182f7ecfc5b'#replace with your API key - or we are going to get locked out\n",
    "character = '4005-5556' #uri code for the charcter 'Alfred Pennyworth' in the comicvine database, \n",
    "                        #replace with codes from table\n",
    "fields = 'name,powers'#comma separated - no spaces - use any combination of fields from table\n",
    "data_type = 'JSON'#try changing to 'XML', commenting out JSON code and enabling the XML code below \n",
    "                  #(it's not going to look great)\n",
    "\n",
    "full_url = (api_url +\n",
    "            character +\n",
    "            '/?api_key=' + api_key +\n",
    "            '&field_list=' + fields +\n",
    "            '&format=' + data_type)\n",
    "\n",
    "#---uncomment to debug errors--\n",
    "#print(full_url) \n",
    " \n",
    "request = requests.get(full_url, headers = {'user-agent': user_agent} )\n",
    "\n",
    "response = request.text\n",
    "\n",
    "#---JSON Specific Code---\n",
    "json_data = json.loads(response)\n",
    "pprint.pprint(json_data)\n",
    "\n",
    "#---XML Specific Code---\n",
    "#from bs4 import BeautifulSoup\n",
    "#soup_data = BeautifulSoup(response,\"html.parser\")\n",
    "#print(soup_data.prettify())"
   ]
  },
  {
   "cell_type": "code",
   "execution_count": null,
   "metadata": {
    "collapsed": true
   },
   "outputs": [],
   "source": []
  },
  {
   "cell_type": "code",
   "execution_count": null,
   "metadata": {
    "collapsed": true
   },
   "outputs": [],
   "source": []
  },
  {
   "cell_type": "code",
   "execution_count": null,
   "metadata": {
    "collapsed": true
   },
   "outputs": [],
   "source": []
  },
  {
   "cell_type": "code",
   "execution_count": null,
   "metadata": {
    "collapsed": true
   },
   "outputs": [],
   "source": []
  },
  {
   "cell_type": "code",
   "execution_count": null,
   "metadata": {
    "collapsed": true
   },
   "outputs": [],
   "source": []
  },
  {
   "cell_type": "code",
   "execution_count": null,
   "metadata": {
    "collapsed": true
   },
   "outputs": [],
   "source": []
  },
  {
   "cell_type": "code",
   "execution_count": null,
   "metadata": {
    "collapsed": true
   },
   "outputs": [],
   "source": []
  },
  {
   "cell_type": "markdown",
   "metadata": {
    "slideshow": {
     "slide_type": "slide"
    }
   },
   "source": [
    "\n",
    "## Data Formats - below is an example of the same data represented three different ways\n",
    "\n",
    "----\n",
    "<h3>XML</h3>\n",
    "~~~~\n",
    "<?xml version=\"1.0\" ?>\n",
    "<bookstore>\n",
    "    <book>\n",
    "        <title>\"Harry Potter and the Prisoner of Azkaban\"</title>\n",
    "        <price>29.99</price>\n",
    "    </book>\n",
    "    <book>\n",
    "        <title>\"A Clash of Kings\"</title>\n",
    "        <price>21.99</price>\n",
    "</bookstore>\n",
    "~~~~"
   ]
  },
  {
   "cell_type": "markdown",
   "metadata": {
    "slideshow": {
     "slide_type": "fragment"
    }
   },
   "source": [
    "<h3>JSON</h3>\n",
    "~~~~\n",
    "\n",
    "{\"bookstore\": [\n",
    "    {\"title\":\"Harry Potter and the Prisoner of Azkaban\",\"price\": 29.99},\n",
    "    {\"title\":\"A Clash of Kings\", \"price\":21.99}\n",
    "]}\n",
    "\n",
    "~~~~"
   ]
  },
  {
   "cell_type": "markdown",
   "metadata": {
    "slideshow": {
     "slide_type": "fragment"
    }
   },
   "source": [
    "<h3>CSV</h3>\n",
    "~~~~\n",
    "\n",
    "\"title\",\"price\"\n",
    "\"Harry Potter and the Prisoner of Azkaban\",29.99\n",
    "\"A Clash of Kings\",21.99\n",
    "\n",
    "~~~~\n"
   ]
  },
  {
   "cell_type": "markdown",
   "metadata": {
    "slideshow": {
     "slide_type": "slide"
    }
   },
   "source": [
    "<h2> The XML Tree</h2>\n",
    "---\n",
    "<p><em>XML file types are often represented as 'family trees.'  Understanding the relationships between different data types, or 'tags' helps when navigating an XML-formatted dataset.</em></p>\n",
    "\n",
    "<img src=\"http://www.w3schools.com/xml/nodetree.gif\">\n",
    "\n",
    "~~~~\n",
    "<bookstore>\n",
    "  <book category=\"COOKING\">\n",
    "    <title lang=\"en\">Everyday Italian</title>\n",
    "    <author>Giada De Laurentiis</author>\n",
    "    <year>2005</year>\n",
    "    <price>30.00</price>\n",
    "  </book>\n",
    "  <book category=\"CHILDREN\">\n",
    "    <title lang=\"en\">Harry Potter</title>\n",
    "    <author>J K. Rowling</author>\n",
    "    <year>2005</year>\n",
    "    <price>29.99</price>\n",
    "  </book>\n",
    "  <book category=\"FANTASY\">\n",
    "    <title lang=\"en\">A Clash of Kings</title>\n",
    "    <author>George R.R. Martin</author>\n",
    "    <year>1998</year>\n",
    "    <price>21.99</price>\n",
    "  </book>\n",
    "</bookstore> \n",
    "~~~~\n",
    "\n",
    "<p><em>In the above example, you can see that the tag \"bookstore\" is a parent of the tag \"book.\"  The tags \"title\" and \"author\" are sibling tags and are children of the tag \"book\"</em></p>\n"
   ]
  },
  {
   "cell_type": "markdown",
   "metadata": {
    "collapsed": true,
    "slideshow": {
     "slide_type": "slide"
    }
   },
   "source": [
    "# Parsing XML with BeautifulSoup"
   ]
  },
  {
   "cell_type": "markdown",
   "metadata": {},
   "source": [
    "<p> We will be using BeautifulSoup to parse our XML.  BeautifulSoup is a package of lots of different types of XML parsers, we are going to be sticking with 'lxml'</p>\n",
    "\n"
   ]
  },
  {
   "cell_type": "code",
   "execution_count": 48,
   "metadata": {
    "collapsed": false,
    "slideshow": {
     "slide_type": "fragment"
    }
   },
   "outputs": [],
   "source": [
    "path = \"data/bookstore.xml\""
   ]
  },
  {
   "cell_type": "markdown",
   "metadata": {},
   "source": [
    "<p>Additionally, instead of accessing the ComicVine API, we will be using generated XML files, found in your 'data' folder.</p>"
   ]
  },
  {
   "cell_type": "code",
   "execution_count": 49,
   "metadata": {
    "collapsed": false
   },
   "outputs": [],
   "source": [
    "import codecs\n",
    "from bs4 import BeautifulSoup\n",
    "response = codecs.open(path, encoding=\"UTF8\") #open file\n",
    "book_soup = BeautifulSoup(response.read(), \"lxml\") #pass to beautifulsoup parser"
   ]
  },
  {
   "cell_type": "markdown",
   "metadata": {},
   "source": [
    "<p>book_soup is now a BeautifulSoup object that can be navigated and parsed by calling different tags and accessing related tags</p>"
   ]
  },
  {
   "cell_type": "code",
   "execution_count": 50,
   "metadata": {
    "collapsed": false
   },
   "outputs": [
    {
     "data": {
      "text/plain": [
       "<bookstore><book category=\"COOKING\"><title lang=\"en\">Everyday Italian</title><author>Giada De Laurentiis</author><year>2005</year><price>30.00</price></book><book category=\"CHILDREN\"><title lang=\"en\">Harry Potter</title><author>J K. Rowling</author><year>2005</year><price>29.99</price></book><book category=\"WEB\"><title lang=\"en\">XQuery Kick Start</title><author>James McGovern</author><author>Per Bothner</author><author>Kurt Cagle</author><author>James Linn</author><author>Vaidyanathan Nagarajan</author><year>2003</year><price>49.99</price></book><book category=\"WEB\"><title lang=\"en\">Learning XML</title><author>Erik T. Ray</author><year>2003</year><price>39.95</price></book><book category=\"FANTASY\"><title lang=\"en\">Clash of Kings</title><author>George R.R. Martin</author><year>1998</year><price>19.95</price></book></bookstore>"
      ]
     },
     "execution_count": 50,
     "metadata": {},
     "output_type": "execute_result"
    }
   ],
   "source": [
    "book_soup.bookstore"
   ]
  },
  {
   "cell_type": "markdown",
   "metadata": {},
   "source": [
    "---\n",
    "<p>Because the entire record is wrapped in the \"bookstore\" tag, we need to access the child tag \"book\" to get into the details about each entry</p>"
   ]
  },
  {
   "cell_type": "code",
   "execution_count": 51,
   "metadata": {
    "collapsed": false
   },
   "outputs": [
    {
     "data": {
      "text/plain": [
       "<list_iterator at 0x7fa81dbcbb38>"
      ]
     },
     "execution_count": 51,
     "metadata": {},
     "output_type": "execute_result"
    }
   ],
   "source": [
    "book_soup.bookstore.children"
   ]
  },
  {
   "cell_type": "markdown",
   "metadata": {},
   "source": [
    "----\n",
    "<p>Many functions in BeautfulSoup return \"iterator\" objects, which we need to do a little bit extra to access.</p>"
   ]
  },
  {
   "cell_type": "code",
   "execution_count": 52,
   "metadata": {
    "collapsed": false,
    "slideshow": {
     "slide_type": "fragment"
    }
   },
   "outputs": [
    {
     "name": "stdout",
     "output_type": "stream",
     "text": [
      "<book category=\"COOKING\">\n",
      " <title lang=\"en\">\n",
      "  Everyday Italian\n",
      " </title>\n",
      " <author>\n",
      "  Giada De Laurentiis\n",
      " </author>\n",
      " <year>\n",
      "  2005\n",
      " </year>\n",
      " <price>\n",
      "  30.00\n",
      " </price>\n",
      "</book>\n",
      "\n"
     ]
    }
   ],
   "source": [
    "books = [book for book in book_soup.bookstore.children] #list comprehension stores each \"book\" object in a list\n",
    "print(books[0].prettify()) #books[0] accesses the first book, the prettify function just makes the xml easier to read "
   ]
  },
  {
   "cell_type": "markdown",
   "metadata": {},
   "source": [
    "----\n",
    "<p>Now, by iterating through each \"book\" object in our list, we can start accessing the child tags for each book.</p>"
   ]
  },
  {
   "cell_type": "code",
   "execution_count": 53,
   "metadata": {
    "collapsed": false
   },
   "outputs": [
    {
     "name": "stdout",
     "output_type": "stream",
     "text": [
      "<author>Giada De Laurentiis</author>\n",
      "<author>J K. Rowling</author>\n",
      "<author>James McGovern</author>\n",
      "<author>Erik T. Ray</author>\n",
      "<author>George R.R. Martin</author>\n"
     ]
    }
   ],
   "source": [
    "for book in books:\n",
    "    print(book.author)"
   ]
  },
  {
   "cell_type": "markdown",
   "metadata": {},
   "source": [
    "---\n",
    "If you just want to access the value of the tags (not the tags) use \".string\"."
   ]
  },
  {
   "cell_type": "code",
   "execution_count": 54,
   "metadata": {
    "collapsed": false,
    "slideshow": {
     "slide_type": "fragment"
    }
   },
   "outputs": [
    {
     "name": "stdout",
     "output_type": "stream",
     "text": [
      "Harry Potter\n"
     ]
    }
   ],
   "source": [
    "for book in books:\n",
    "    if book.author.string == 'J K. Rowling':\n",
    "        print(book.title.string)"
   ]
  },
  {
   "cell_type": "markdown",
   "metadata": {},
   "source": [
    "---\n",
    "If you want to access and attribute on a tag, you call the attributes the same way you would a dictionary."
   ]
  },
  {
   "cell_type": "code",
   "execution_count": 55,
   "metadata": {
    "collapsed": false,
    "slideshow": {
     "slide_type": "fragment"
    }
   },
   "outputs": [
    {
     "name": "stdout",
     "output_type": "stream",
     "text": [
      "George R.R. Martin\n"
     ]
    }
   ],
   "source": [
    "for book in books:\n",
    "    if book['category'] == 'FANTASY':\n",
    "        print(book.author.string)"
   ]
  },
  {
   "cell_type": "markdown",
   "metadata": {
    "slideshow": {
     "slide_type": "slide"
    }
   },
   "source": [
    "---\n",
    "<h4>Excerpt from the file carol.xml</h4>"
   ]
  },
  {
   "cell_type": "markdown",
   "metadata": {},
   "source": [
    "    <team_enemies>\n",
    "        <team>\n",
    "            <api_detail_url>http://www.comicvine.com/api/team/4060-13497</api_detail_url>\n",
    "            <id>13497</id>\n",
    "            <name>A.I.M.</name>\n",
    "            <site_detail_url>http://www.comicvine.com/aim/4060-13497/</site_detail_url>    \n",
    "          </team>\n",
    "          <team>\n",
    "            <api_detail_url>http://www.comicvine.com/api/team/4060-4987/</api_detail_url>\n",
    "            <id>4987</id>\n",
    "            <name>Brood</name>\n",
    "            <site_detail_url>http://www.comicvine.com/brood/4060-4987/</site_detail_url>\n",
    "         </team>\n",
    "    </team_enemies>"
   ]
  },
  {
   "cell_type": "markdown",
   "metadata": {},
   "source": [
    "You can string together several different layers of navigation to get deeper into the XML tree:"
   ]
  },
  {
   "cell_type": "code",
   "execution_count": 56,
   "metadata": {
    "collapsed": false,
    "slideshow": {
     "slide_type": "fragment"
    }
   },
   "outputs": [
    {
     "data": {
      "text/plain": [
       "'<?xml version=\"1.0\" encoding=\"utf-8\"?><html><body><response><error>OK</error><limit>1</limit><offset>0</offset><number_of_page_results>1</number_of_page_results><number_of_total_results>1</number_of_total_results><status_code>1</status_code><results><aliases>Binary\\r\\nCaptain Marvel\\r\\nCarol Danvers\\r\\nWarbird\\r\\nMs. Marvel</aliases><api_detail_url>http://www.comicvine.com/api/character/4005-21561/</api_detail_url><birth></birth><character_enemies><character><api_detail_url>http://www.comicvine.com/api/'"
      ]
     },
     "execution_count": 56,
     "metadata": {},
     "output_type": "execute_result"
    }
   ],
   "source": [
    "from bs4 import BeautifulSoup\n",
    "import codecs\n",
    "\n",
    "carol_xml = \"data/carol.xml\"\n",
    "response = codecs.open(carol_xml, encoding=\"UTF8\")\n",
    "\n",
    "carol_soup = BeautifulSoup(response.read(),\"lxml\") #read entire file into soup object\n",
    "\n",
    "str(carol_soup)[:500]#printing out a preview of the soup object"
   ]
  },
  {
   "cell_type": "markdown",
   "metadata": {},
   "source": [
    "When a file is too big to open and explore on your own (like most files....) you can start to get an idea of the tree stucture by stepping through all of the \"branches.\""
   ]
  },
  {
   "cell_type": "code",
   "execution_count": 57,
   "metadata": {
    "collapsed": false
   },
   "outputs": [
    {
     "name": "stdout",
     "output_type": "stream",
     "text": [
      "None\n",
      "html\n"
     ]
    }
   ],
   "source": [
    "for tag in carol_soup:\n",
    "    print (tag.name) #calling 'name' displays the type of tag immediately under carol_soup"
   ]
  },
  {
   "cell_type": "code",
   "execution_count": 58,
   "metadata": {
    "collapsed": false
   },
   "outputs": [
    {
     "name": "stdout",
     "output_type": "stream",
     "text": [
      "body\n"
     ]
    }
   ],
   "source": [
    "for tag in carol_soup.html: #keep stepping through the tree\n",
    "    print(tag.name)"
   ]
  },
  {
   "cell_type": "code",
   "execution_count": 59,
   "metadata": {
    "collapsed": false
   },
   "outputs": [
    {
     "name": "stdout",
     "output_type": "stream",
     "text": [
      "response\n",
      "None\n"
     ]
    }
   ],
   "source": [
    "for tag in carol_soup.body: #you don't need to call carol_soup.html.body\n",
    "                            #even if it isn't directly under the parent, bs will find the highest level of that tag  \n",
    "    print(tag.name)"
   ]
  },
  {
   "cell_type": "code",
   "execution_count": 60,
   "metadata": {
    "collapsed": false
   },
   "outputs": [
    {
     "name": "stdout",
     "output_type": "stream",
     "text": [
      "error\n",
      "limit\n",
      "offset\n",
      "number_of_page_results\n",
      "number_of_total_results\n",
      "status_code\n",
      "results\n",
      "version\n"
     ]
    }
   ],
   "source": [
    "for tag in carol_soup.response:\n",
    "    print(tag.name)"
   ]
  },
  {
   "cell_type": "code",
   "execution_count": 61,
   "metadata": {
    "collapsed": false
   },
   "outputs": [
    {
     "name": "stdout",
     "output_type": "stream",
     "text": [
      "aliases\n",
      "api_detail_url\n",
      "birth\n",
      "character_enemies\n",
      "character_friends\n",
      "count_of_issue_appearances\n",
      "creators\n",
      "date_added\n",
      "date_last_updated\n",
      "deck\n",
      "description\n",
      "first_appeared_in_issue\n",
      "gender\n",
      "id\n",
      "image\n",
      "issue_credits\n",
      "issues_died_in\n",
      "movies\n",
      "name\n",
      "origin\n",
      "powers\n",
      "publisher\n",
      "real_name\n",
      "site_detail_url\n",
      "story_arc_credits\n",
      "team_enemies\n",
      "team_friends\n",
      "teams\n",
      "volume_credits\n"
     ]
    }
   ],
   "source": [
    "for tag in carol_soup.results:\n",
    "    print(tag.name)"
   ]
  },
  {
   "cell_type": "code",
   "execution_count": 62,
   "metadata": {
    "collapsed": false
   },
   "outputs": [
    {
     "name": "stdout",
     "output_type": "stream",
     "text": [
      "<team>\n",
      " <api_detail_url>\n",
      "  http://www.comicvine.com/api/team/4060-13497/\n",
      " </api_detail_url>\n",
      " <id>\n",
      "  13497\n",
      " </id>\n",
      " <name>\n",
      "  A.I.M.\n",
      " </name>\n",
      " <site_detail_url>\n",
      "  http://www.comicvine.com/aim/4060-13497/\n",
      " </site_detail_url>\n",
      "</team>\n",
      "\n"
     ]
    }
   ],
   "source": [
    "carols_enemies = [team for team in carol_soup.team_enemies.children] #find all of the child tags in team enemies\n",
    "print(carols_enemies[0].prettify())"
   ]
  },
  {
   "cell_type": "code",
   "execution_count": 63,
   "metadata": {
    "collapsed": false
   },
   "outputs": [
    {
     "name": "stdout",
     "output_type": "stream",
     "text": [
      "A.I.M.\n",
      "Brood\n",
      "Builders\n",
      "Dark Avengers\n",
      "Elements of Doom\n",
      "Fathom Five\n",
      "House of Magnus\n",
      "Lunatic Legion\n",
      "Plodex\n",
      "Secret Avengers\n",
      "Skrulls\n",
      "Steel Skulls\n",
      "Targoth Troops\n",
      "The False Heroes\n",
      "Wrecking Crew\n"
     ]
    }
   ],
   "source": [
    "for team in carols_enemies:\n",
    "    for tag in team.children: #find all of the child tags under each team\n",
    "        if tag.name == \"name\":\n",
    "            print(tag.string)"
   ]
  },
  {
   "cell_type": "code",
   "execution_count": 64,
   "metadata": {
    "collapsed": false
   },
   "outputs": [
    {
     "name": "stdout",
     "output_type": "stream",
     "text": [
      "http://www.comicvine.com/aim/4060-13497/\n",
      "http://www.comicvine.com/brood/4060-4987/\n",
      "http://www.comicvine.com/builders/4060-60019/\n",
      "http://www.comicvine.com/dark-avengers/4060-55990/\n",
      "http://www.comicvine.com/elements-of-doom/4060-55855/\n",
      "http://www.comicvine.com/fathom-five/4060-55790/\n",
      "http://www.comicvine.com/house-of-magnus/4060-60033/\n",
      "http://www.comicvine.com/lunatic-legion/4060-55734/\n",
      "http://www.comicvine.com/plodex/4060-57619/\n",
      "http://www.comicvine.com/secret-avengers/4060-40904/\n",
      "http://www.comicvine.com/skrulls/4060-40668/\n",
      "http://www.comicvine.com/steel-skulls/4060-56000/\n",
      "http://www.comicvine.com/targoth-troops/4060-55716/\n",
      "http://www.comicvine.com/the-false-heroes/4060-56187/\n",
      "http://www.comicvine.com/wrecking-crew/4060-18519/\n"
     ]
    }
   ],
   "source": [
    "#once you have an idea about the structure of your xml, you can access the data in a much more streamlined manner\n",
    "for team in carol_soup.team_enemies:\n",
    "    print(team.site_detail_url.string)"
   ]
  },
  {
   "cell_type": "markdown",
   "metadata": {
    "slideshow": {
     "slide_type": "slide"
    }
   },
   "source": [
    "# Excercise 3: Parse with BeautifulSoup\n",
    "\n",
    "***\n",
    "* Find all of Carol Danver's Story Arcs outlined in the XML and print out all of the following fields for each arc:\n",
    "   * arc name\n",
    "   * arc ID\n",
    "   * arc URL\n",
    "\n"
   ]
  },
  {
   "cell_type": "code",
   "execution_count": 65,
   "metadata": {
    "collapsed": true
   },
   "outputs": [],
   "source": [
    "#----hint to get you started----\n",
    "#read the data into the soup object\n",
    "\n",
    "carol_xml = \"data/carol.xml\"\n",
    "response = codecs.open(carol_xml, encoding=\"UTF8\")\n",
    "\n",
    "carol_soup = BeautifulSoup(response.read(),\"lxml\") #read entire file into soup object"
   ]
  },
  {
   "cell_type": "code",
   "execution_count": null,
   "metadata": {
    "collapsed": true
   },
   "outputs": [],
   "source": []
  },
  {
   "cell_type": "code",
   "execution_count": null,
   "metadata": {
    "collapsed": true
   },
   "outputs": [],
   "source": []
  },
  {
   "cell_type": "code",
   "execution_count": null,
   "metadata": {
    "collapsed": true
   },
   "outputs": [],
   "source": []
  },
  {
   "cell_type": "code",
   "execution_count": null,
   "metadata": {
    "collapsed": true
   },
   "outputs": [],
   "source": []
  },
  {
   "cell_type": "code",
   "execution_count": null,
   "metadata": {
    "collapsed": true
   },
   "outputs": [],
   "source": []
  },
  {
   "cell_type": "code",
   "execution_count": null,
   "metadata": {
    "collapsed": true
   },
   "outputs": [],
   "source": []
  },
  {
   "cell_type": "code",
   "execution_count": null,
   "metadata": {
    "collapsed": true
   },
   "outputs": [],
   "source": []
  },
  {
   "cell_type": "markdown",
   "metadata": {
    "slideshow": {
     "slide_type": "slide"
    }
   },
   "source": [
    "# JSON\n",
    "***\n",
    "    {\"bookstore\": [\n",
    "        {\"title\":\"Harry Potter and the Prisoner of Azkaban\",\"price\": 29.99},\n",
    "        {\"title\":\"A Clash of Kings\", \"price\":21.99}\n",
    "    ]}"
   ]
  },
  {
   "cell_type": "markdown",
   "metadata": {},
   "source": [
    "The JSON data structure looks a lot like python's dictionary. Below is the above structure represented as a dictionary:"
   ]
  },
  {
   "cell_type": "code",
   "execution_count": 66,
   "metadata": {
    "collapsed": true,
    "slideshow": {
     "slide_type": "fragment"
    }
   },
   "outputs": [],
   "source": [
    "bookstore = {123:{\"title\":\"Harry Potter and the Prisoner of Azkaban\",\"price\": 29.99},\n",
    "             456: {\"title\":\"A Clash of Kings\", \"price\":21.99}\n",
    "             }"
   ]
  },
  {
   "cell_type": "markdown",
   "metadata": {},
   "source": [
    "You can access the items in a dictionary object using a series of \"keys.\""
   ]
  },
  {
   "cell_type": "code",
   "execution_count": 67,
   "metadata": {
    "collapsed": false
   },
   "outputs": [
    {
     "name": "stdout",
     "output_type": "stream",
     "text": [
      "{'price': 29.99, 'title': 'Harry Potter and the Prisoner of Azkaban'}\n"
     ]
    }
   ],
   "source": [
    "print(bookstore[123])"
   ]
  },
  {
   "cell_type": "code",
   "execution_count": 68,
   "metadata": {
    "collapsed": false
   },
   "outputs": [
    {
     "name": "stdout",
     "output_type": "stream",
     "text": [
      "Harry Potter and the Prisoner of Azkaban\n"
     ]
    }
   ],
   "source": [
    "print(bookstore[123]['title'])"
   ]
  },
  {
   "cell_type": "code",
   "execution_count": 69,
   "metadata": {
    "collapsed": false,
    "slideshow": {
     "slide_type": "fragment"
    }
   },
   "outputs": [
    {
     "name": "stdout",
     "output_type": "stream",
     "text": [
      "A Clash of Kings\n"
     ]
    }
   ],
   "source": [
    "for serial_number in bookstore.keys():\n",
    "    if bookstore[serial_number][\"price\"] < 25:\n",
    "        print(bookstore[serial_number][\"title\"])"
   ]
  },
  {
   "cell_type": "markdown",
   "metadata": {
    "slideshow": {
     "slide_type": "slide"
    }
   },
   "source": [
    "# JSON.LOADS() - the only command you'll ever need\n",
    "***"
   ]
  },
  {
   "cell_type": "markdown",
   "metadata": {},
   "source": [
    "json.loads() will take any string version of a JSON object (like a response from the comicvine API) and load it into a dictionary which you can parse like any nested dictionary."
   ]
  },
  {
   "cell_type": "code",
   "execution_count": 70,
   "metadata": {
    "collapsed": false,
    "slideshow": {
     "slide_type": "fragment"
    }
   },
   "outputs": [
    {
     "name": "stdout",
     "output_type": "stream",
     "text": [
      "{'error': 'OK',\n",
      " 'limit': 1,\n",
      " 'number_of_page_results': 1,\n",
      " 'number_of_total_results': 1,\n",
      " 'offset': 0,\n",
      " 'results': {'name': 'Alfred Pennyworth',\n",
      "             'powers': [{'api_detail_url': 'https://comicvine.gamespot.com/api/power/4035-4/',\n",
      "                         'id': 4,\n",
      "                         'name': 'Agility'},\n",
      "                        {'api_detail_url': 'https://comicvine.gamespot.com/api/power/4035-5/',\n",
      "                         'id': 5,\n",
      "                         'name': 'Stamina'},\n",
      "                        {'api_detail_url': 'https://comicvine.gamespot.com/api/power/4035-9/',\n",
      "                         'id': 9,\n",
      "                         'name': 'Intellect'},\n",
      "                        {'api_detail_url': 'https://comicvine.gamespot.com/api/power/4035-34/',\n",
      "                         'id': 34,\n",
      "                         'name': 'Unarmed Combat'},\n",
      "                        {'api_detail_url': 'https://comicvine.gamespot.com/api/power/4035-35/',\n",
      "                         'id': 35,\n",
      "                         'name': 'Gadgets'},\n",
      "                        {'api_detail_url': 'https://comicvine.gamespot.com/api/power/4035-58/',\n",
      "                         'id': 58,\n",
      "                         'name': 'Escape Artist'},\n",
      "                        {'api_detail_url': 'https://comicvine.gamespot.com/api/power/4035-108/',\n",
      "                         'id': 108,\n",
      "                         'name': 'Marksmanship'}]},\n",
      " 'status_code': 1,\n",
      " 'version': '1.0'}\n"
     ]
    }
   ],
   "source": [
    "user_agent = \"Chrome/57.0.2987.133\"\n",
    "\n",
    "api_url = 'http://www.comicvine.com/api/character/'\n",
    "api_key = '744d012c843a3c94e106f1b0ca16d182f7ecfc5b'#replace with your API key - or we are going to get locked out\n",
    "character = '4005-2267'\n",
    "fields = 'name,powers,aliases'\n",
    "data_type = 'JSON'\n",
    "\n",
    "full_url = (api_url +\n",
    "            character +\n",
    "            '/?api_key=' + api_key +\n",
    "            '&field_list=' + fields +\n",
    "            '&format=' + data_type)\n",
    "\n",
    "request = requests.get(full_url, headers = {'user-agent': user_agent} )\n",
    "\n",
    "response = request.text\n",
    "\n",
    "hulk_data = json.loads(response)\n",
    "pprint.pprint(json_data)"
   ]
  },
  {
   "cell_type": "markdown",
   "metadata": {},
   "source": [
    "---\n",
    "Explore the top level keys of the dictionary, and look for the value most likely to contain your data."
   ]
  },
  {
   "cell_type": "code",
   "execution_count": 71,
   "metadata": {
    "collapsed": false,
    "slideshow": {
     "slide_type": "subslide"
    }
   },
   "outputs": [
    {
     "name": "stdout",
     "output_type": "stream",
     "text": [
      "number_of_page_results\n",
      "number_of_total_results\n",
      "limit\n",
      "version\n",
      "offset\n",
      "error\n",
      "results\n",
      "status_code\n"
     ]
    }
   ],
   "source": [
    "for key in hulk_data.keys():\n",
    "    print(key)"
   ]
  },
  {
   "cell_type": "markdown",
   "metadata": {},
   "source": [
    "-----\n",
    "Explore the next level down..."
   ]
  },
  {
   "cell_type": "code",
   "execution_count": 72,
   "metadata": {
    "collapsed": false,
    "slideshow": {
     "slide_type": "subslide"
    }
   },
   "outputs": [
    {
     "name": "stdout",
     "output_type": "stream",
     "text": [
      "powers\n",
      "aliases\n",
      "name\n"
     ]
    }
   ],
   "source": [
    "for key in hulk_data['results'].keys():\n",
    "    print(key)"
   ]
  },
  {
   "cell_type": "markdown",
   "metadata": {},
   "source": [
    "----\n",
    "Go down one more level to access the actual content of the \"powers\" data set. (Which is stored as a list of dictionaries)"
   ]
  },
  {
   "cell_type": "code",
   "execution_count": 73,
   "metadata": {
    "collapsed": false,
    "slideshow": {
     "slide_type": "subslide"
    }
   },
   "outputs": [
    {
     "name": "stdout",
     "output_type": "stream",
     "text": [
      "{'id': 2, 'api_detail_url': 'https://comicvine.gamespot.com/api/power/4035-2/', 'name': 'Super Strength'}\n",
      "{'id': 3, 'api_detail_url': 'https://comicvine.gamespot.com/api/power/4035-3/', 'name': 'Super Speed'}\n",
      "{'id': 4, 'api_detail_url': 'https://comicvine.gamespot.com/api/power/4035-4/', 'name': 'Agility'}\n",
      "{'id': 5, 'api_detail_url': 'https://comicvine.gamespot.com/api/power/4035-5/', 'name': 'Stamina'}\n",
      "{'id': 6, 'api_detail_url': 'https://comicvine.gamespot.com/api/power/4035-6/', 'name': 'Invulnerability'}\n",
      "{'id': 9, 'api_detail_url': 'https://comicvine.gamespot.com/api/power/4035-9/', 'name': 'Intellect'}\n",
      "{'id': 15, 'api_detail_url': 'https://comicvine.gamespot.com/api/power/4035-15/', 'name': 'Healing'}\n",
      "{'id': 17, 'api_detail_url': 'https://comicvine.gamespot.com/api/power/4035-17/', 'name': 'Weapon Master'}\n",
      "{'id': 24, 'api_detail_url': 'https://comicvine.gamespot.com/api/power/4035-24/', 'name': 'Shape Shifter'}\n",
      "{'id': 32, 'api_detail_url': 'https://comicvine.gamespot.com/api/power/4035-32/', 'name': 'Radiation'}\n",
      "{'id': 34, 'api_detail_url': 'https://comicvine.gamespot.com/api/power/4035-34/', 'name': 'Unarmed Combat'}\n",
      "{'id': 40, 'api_detail_url': 'https://comicvine.gamespot.com/api/power/4035-40/', 'name': 'Immortal'}\n",
      "{'id': 59, 'api_detail_url': 'https://comicvine.gamespot.com/api/power/4035-59/', 'name': 'Tracking'}\n",
      "{'id': 60, 'api_detail_url': 'https://comicvine.gamespot.com/api/power/4035-60/', 'name': 'Astral Projection'}\n",
      "{'id': 66, 'api_detail_url': 'https://comicvine.gamespot.com/api/power/4035-66/', 'name': 'Adaptive'}\n",
      "{'id': 77, 'api_detail_url': 'https://comicvine.gamespot.com/api/power/4035-77/', 'name': 'Reality Manpulation'}\n",
      "{'id': 120, 'api_detail_url': 'https://comicvine.gamespot.com/api/power/4035-120/', 'name': 'Energy Absorption'}\n",
      "{'id': 133, 'api_detail_url': 'https://comicvine.gamespot.com/api/power/4035-133/', 'name': 'Berserker Strength'}\n",
      "{'id': 136, 'api_detail_url': 'https://comicvine.gamespot.com/api/power/4035-136/', 'name': 'Longevity'}\n"
     ]
    }
   ],
   "source": [
    "for power in hulk_data['results']['powers']:\n",
    "    print(power)"
   ]
  },
  {
   "cell_type": "markdown",
   "metadata": {},
   "source": [
    "----\n",
    "Finally, iterate over that list of dictionaries, and access the value associates with each \"name\" key."
   ]
  },
  {
   "cell_type": "code",
   "execution_count": 74,
   "metadata": {
    "collapsed": false,
    "slideshow": {
     "slide_type": "subslide"
    }
   },
   "outputs": [
    {
     "name": "stdout",
     "output_type": "stream",
     "text": [
      "Super Strength\n",
      "Super Speed\n",
      "Agility\n",
      "Stamina\n",
      "Invulnerability\n",
      "Intellect\n",
      "Healing\n",
      "Weapon Master\n",
      "Shape Shifter\n",
      "Radiation\n",
      "Unarmed Combat\n",
      "Immortal\n",
      "Tracking\n",
      "Astral Projection\n",
      "Adaptive\n",
      "Reality Manpulation\n",
      "Energy Absorption\n",
      "Berserker Strength\n",
      "Longevity\n"
     ]
    }
   ],
   "source": [
    "for power in hulk_data['results']['powers']:\n",
    "    print(power['name'])"
   ]
  },
  {
   "cell_type": "markdown",
   "metadata": {},
   "source": [
    "----\n",
    "Trying the same thing with the \"aliases\" key yields different results."
   ]
  },
  {
   "cell_type": "code",
   "execution_count": 75,
   "metadata": {
    "collapsed": false,
    "slideshow": {
     "slide_type": "subslide"
    }
   },
   "outputs": [
    {
     "ename": "TypeError",
     "evalue": "string indices must be integers",
     "output_type": "error",
     "traceback": [
      "\u001b[1;31m---------------------------------------------------------------------------\u001b[0m",
      "\u001b[1;31mTypeError\u001b[0m                                 Traceback (most recent call last)",
      "\u001b[1;32m<ipython-input-75-5bb9011c3f28>\u001b[0m in \u001b[0;36m<module>\u001b[1;34m()\u001b[0m\n\u001b[0;32m      1\u001b[0m \u001b[1;32mfor\u001b[0m \u001b[0malias\u001b[0m \u001b[1;32min\u001b[0m \u001b[0mhulk_data\u001b[0m\u001b[1;33m[\u001b[0m\u001b[1;34m'results'\u001b[0m\u001b[1;33m]\u001b[0m\u001b[1;33m[\u001b[0m\u001b[1;34m'aliases'\u001b[0m\u001b[1;33m]\u001b[0m\u001b[1;33m:\u001b[0m\u001b[1;33m\u001b[0m\u001b[0m\n\u001b[1;32m----> 2\u001b[1;33m     \u001b[0mprint\u001b[0m\u001b[1;33m(\u001b[0m\u001b[0malias\u001b[0m\u001b[1;33m[\u001b[0m\u001b[1;34m'name'\u001b[0m\u001b[1;33m]\u001b[0m\u001b[1;33m)\u001b[0m\u001b[1;33m\u001b[0m\u001b[0m\n\u001b[0m",
      "\u001b[1;31mTypeError\u001b[0m: string indices must be integers"
     ]
    }
   ],
   "source": [
    "for alias in hulk_data['results']['aliases']:\n",
    "    print(alias['name'])"
   ]
  },
  {
   "cell_type": "code",
   "execution_count": 76,
   "metadata": {
    "collapsed": false,
    "scrolled": true,
    "slideshow": {
     "slide_type": "subslide"
    }
   },
   "outputs": [
    {
     "name": "stdout",
     "output_type": "stream",
     "text": [
      "Bruce Banner\r\n",
      "The Incredible Hulk\r\n",
      "The Incredible Thing\r\n",
      "Dr. Banner\r\n",
      "David Banner\r\n",
      "David Blaine\r\n",
      "Bruce Bancroft\r\n",
      "David Bixby\r\n",
      "Bob Danner\r\n",
      "Breaker of Worlds\r\n",
      "Bruce Roberts\r\n",
      "Puny Banner\r\n",
      "Joe Fixit\r\n",
      "Mr. Fixit\r\n",
      "Scartacus\r\n",
      "Annihilator\r\n",
      "Jade Giant\r\n",
      "Jade Jaws\r\n",
      "Doc Green\r\n",
      "World Breaker\r\n",
      "Green Scar\r\n",
      "Eye of Anger\r\n",
      "Harkanon\r\n",
      "Haarg\r\n",
      "Holku\r\n",
      "Green King\n"
     ]
    }
   ],
   "source": [
    "print(hulk_data['results']['aliases'])"
   ]
  },
  {
   "cell_type": "markdown",
   "metadata": {
    "slideshow": {
     "slide_type": "slide"
    }
   },
   "source": [
    "# Final Exercise - All together now"
   ]
  },
  {
   "cell_type": "markdown",
   "metadata": {
    "slideshow": {
     "slide_type": "slide"
    }
   },
   "source": [
    "# How many different powers does Jarvis have? What are they?"
   ]
  },
  {
   "cell_type": "code",
   "execution_count": null,
   "metadata": {
    "collapsed": false,
    "slideshow": {
     "slide_type": "fragment"
    }
   },
   "outputs": [],
   "source": [
    "character_id = '4005-1781'"
   ]
  },
  {
   "cell_type": "code",
   "execution_count": null,
   "metadata": {
    "collapsed": true
   },
   "outputs": [],
   "source": []
  },
  {
   "cell_type": "code",
   "execution_count": null,
   "metadata": {
    "collapsed": true
   },
   "outputs": [],
   "source": []
  },
  {
   "cell_type": "code",
   "execution_count": null,
   "metadata": {
    "collapsed": true
   },
   "outputs": [],
   "source": []
  },
  {
   "cell_type": "markdown",
   "metadata": {
    "slideshow": {
     "slide_type": "slide"
    }
   },
   "source": [
    "# What is the name of the issue in which Deadpool dies?"
   ]
  },
  {
   "cell_type": "code",
   "execution_count": null,
   "metadata": {
    "collapsed": true,
    "slideshow": {
     "slide_type": "fragment"
    }
   },
   "outputs": [],
   "source": [
    "character_id = '4005-7606'"
   ]
  },
  {
   "cell_type": "code",
   "execution_count": null,
   "metadata": {
    "collapsed": true
   },
   "outputs": [],
   "source": []
  },
  {
   "cell_type": "code",
   "execution_count": null,
   "metadata": {
    "collapsed": true
   },
   "outputs": [],
   "source": []
  },
  {
   "cell_type": "code",
   "execution_count": null,
   "metadata": {
    "collapsed": true
   },
   "outputs": [],
   "source": []
  },
  {
   "cell_type": "markdown",
   "metadata": {
    "slideshow": {
     "slide_type": "slide"
    }
   },
   "source": [
    "# How many different teams has Ms. Marvel belonged to?"
   ]
  },
  {
   "cell_type": "code",
   "execution_count": null,
   "metadata": {
    "collapsed": false,
    "slideshow": {
     "slide_type": "fragment"
    }
   },
   "outputs": [],
   "source": [
    "character_id = '4005-21561'"
   ]
  },
  {
   "cell_type": "code",
   "execution_count": null,
   "metadata": {
    "collapsed": true
   },
   "outputs": [],
   "source": []
  },
  {
   "cell_type": "code",
   "execution_count": null,
   "metadata": {
    "collapsed": true
   },
   "outputs": [],
   "source": []
  },
  {
   "cell_type": "code",
   "execution_count": null,
   "metadata": {
    "collapsed": true
   },
   "outputs": [],
   "source": []
  },
  {
   "cell_type": "markdown",
   "metadata": {
    "slideshow": {
     "slide_type": "slide"
    }
   },
   "source": [
    "# List the names and site urls for all of Baymax's friends."
   ]
  },
  {
   "cell_type": "code",
   "execution_count": null,
   "metadata": {
    "collapsed": false,
    "slideshow": {
     "slide_type": "fragment"
    }
   },
   "outputs": [],
   "source": [
    "character_id = '4005-5023'"
   ]
  },
  {
   "cell_type": "code",
   "execution_count": null,
   "metadata": {
    "collapsed": true
   },
   "outputs": [],
   "source": []
  },
  {
   "cell_type": "code",
   "execution_count": null,
   "metadata": {
    "collapsed": true
   },
   "outputs": [],
   "source": []
  },
  {
   "cell_type": "code",
   "execution_count": null,
   "metadata": {
    "collapsed": false,
    "slideshow": {
     "slide_type": "fragment"
    }
   },
   "outputs": [],
   "source": []
  },
  {
   "cell_type": "markdown",
   "metadata": {
    "slideshow": {
     "slide_type": "slide"
    }
   },
   "source": [
    "# How many movies is Superman in?"
   ]
  },
  {
   "cell_type": "code",
   "execution_count": null,
   "metadata": {
    "collapsed": false,
    "slideshow": {
     "slide_type": "fragment"
    }
   },
   "outputs": [],
   "source": [
    "character_id = '4005-1807'"
   ]
  },
  {
   "cell_type": "code",
   "execution_count": null,
   "metadata": {
    "collapsed": true
   },
   "outputs": [],
   "source": []
  },
  {
   "cell_type": "code",
   "execution_count": null,
   "metadata": {
    "collapsed": true
   },
   "outputs": [],
   "source": []
  },
  {
   "cell_type": "code",
   "execution_count": null,
   "metadata": {
    "collapsed": true
   },
   "outputs": [],
   "source": []
  },
  {
   "cell_type": "markdown",
   "metadata": {
    "slideshow": {
     "slide_type": "slide"
    }
   },
   "source": [
    "# Who are the creators of the Scarlet Witch?"
   ]
  },
  {
   "cell_type": "code",
   "execution_count": null,
   "metadata": {
    "collapsed": false,
    "slideshow": {
     "slide_type": "fragment"
    }
   },
   "outputs": [],
   "source": [
    "character_id = '4005-1466'"
   ]
  },
  {
   "cell_type": "code",
   "execution_count": null,
   "metadata": {
    "collapsed": true
   },
   "outputs": [],
   "source": []
  },
  {
   "cell_type": "code",
   "execution_count": null,
   "metadata": {
    "collapsed": true
   },
   "outputs": [],
   "source": []
  },
  {
   "cell_type": "code",
   "execution_count": null,
   "metadata": {
    "collapsed": true
   },
   "outputs": [],
   "source": []
  },
  {
   "cell_type": "markdown",
   "metadata": {
    "slideshow": {
     "slide_type": "slide"
    }
   },
   "source": [
    "# Print out every team Groot has been on besides \"Guardians of the Galaxy.\""
   ]
  },
  {
   "cell_type": "code",
   "execution_count": null,
   "metadata": {
    "collapsed": false,
    "slideshow": {
     "slide_type": "fragment"
    }
   },
   "outputs": [],
   "source": [
    "character_id = '4005-24341'"
   ]
  },
  {
   "cell_type": "code",
   "execution_count": null,
   "metadata": {
    "collapsed": true
   },
   "outputs": [],
   "source": []
  },
  {
   "cell_type": "code",
   "execution_count": null,
   "metadata": {
    "collapsed": true
   },
   "outputs": [],
   "source": []
  },
  {
   "cell_type": "code",
   "execution_count": null,
   "metadata": {
    "collapsed": true
   },
   "outputs": [],
   "source": []
  },
  {
   "cell_type": "code",
   "execution_count": null,
   "metadata": {
    "collapsed": true
   },
   "outputs": [],
   "source": []
  },
  {
   "cell_type": "markdown",
   "metadata": {
    "slideshow": {
     "slide_type": "slide"
    }
   },
   "source": [
    "# What other names is Batman known by?"
   ]
  },
  {
   "cell_type": "code",
   "execution_count": null,
   "metadata": {
    "collapsed": false,
    "slideshow": {
     "slide_type": "fragment"
    }
   },
   "outputs": [],
   "source": [
    "character_id = '4005-1699'"
   ]
  },
  {
   "cell_type": "code",
   "execution_count": null,
   "metadata": {
    "collapsed": true
   },
   "outputs": [],
   "source": []
  },
  {
   "cell_type": "code",
   "execution_count": null,
   "metadata": {
    "collapsed": true
   },
   "outputs": [],
   "source": []
  },
  {
   "cell_type": "code",
   "execution_count": null,
   "metadata": {
    "collapsed": true
   },
   "outputs": [],
   "source": []
  },
  {
   "cell_type": "code",
   "execution_count": null,
   "metadata": {
    "collapsed": true
   },
   "outputs": [],
   "source": []
  },
  {
   "cell_type": "markdown",
   "metadata": {
    "slideshow": {
     "slide_type": "slide"
    }
   },
   "source": [
    "# Who are the publishers of Ironman?"
   ]
  },
  {
   "cell_type": "code",
   "execution_count": null,
   "metadata": {
    "collapsed": false,
    "slideshow": {
     "slide_type": "fragment"
    }
   },
   "outputs": [],
   "source": [
    "character_id = '4005-1455'"
   ]
  },
  {
   "cell_type": "code",
   "execution_count": null,
   "metadata": {
    "collapsed": true
   },
   "outputs": [],
   "source": []
  },
  {
   "cell_type": "code",
   "execution_count": null,
   "metadata": {
    "collapsed": true
   },
   "outputs": [],
   "source": []
  },
  {
   "cell_type": "code",
   "execution_count": null,
   "metadata": {
    "collapsed": true
   },
   "outputs": [],
   "source": []
  },
  {
   "cell_type": "code",
   "execution_count": null,
   "metadata": {
    "collapsed": true
   },
   "outputs": [],
   "source": []
  },
  {
   "cell_type": "markdown",
   "metadata": {
    "slideshow": {
     "slide_type": "slide"
    }
   },
   "source": [
    "# List Homer Simpson's enemies."
   ]
  },
  {
   "cell_type": "code",
   "execution_count": null,
   "metadata": {
    "collapsed": false,
    "slideshow": {
     "slide_type": "fragment"
    }
   },
   "outputs": [],
   "source": [
    "character_id = '4005-3399'"
   ]
  },
  {
   "cell_type": "code",
   "execution_count": null,
   "metadata": {
    "collapsed": true
   },
   "outputs": [],
   "source": []
  },
  {
   "cell_type": "code",
   "execution_count": null,
   "metadata": {
    "collapsed": true
   },
   "outputs": [],
   "source": []
  },
  {
   "cell_type": "code",
   "execution_count": null,
   "metadata": {
    "collapsed": true
   },
   "outputs": [],
   "source": []
  },
  {
   "cell_type": "code",
   "execution_count": null,
   "metadata": {
    "collapsed": true
   },
   "outputs": [],
   "source": []
  },
  {
   "cell_type": "markdown",
   "metadata": {
    "slideshow": {
     "slide_type": "slide"
    }
   },
   "source": [
    "# BONUS: Which other characters are in the issue in which Deadpool Dies?"
   ]
  },
  {
   "cell_type": "code",
   "execution_count": null,
   "metadata": {
    "collapsed": false,
    "slideshow": {
     "slide_type": "fragment"
    }
   },
   "outputs": [],
   "source": [
    "character_id = '4005-7606'"
   ]
  },
  {
   "cell_type": "code",
   "execution_count": null,
   "metadata": {
    "collapsed": true
   },
   "outputs": [],
   "source": []
  },
  {
   "cell_type": "code",
   "execution_count": null,
   "metadata": {
    "collapsed": true
   },
   "outputs": [],
   "source": []
  },
  {
   "cell_type": "code",
   "execution_count": null,
   "metadata": {
    "collapsed": true
   },
   "outputs": [],
   "source": []
  },
  {
   "cell_type": "markdown",
   "metadata": {
    "slideshow": {
     "slide_type": "slide"
    }
   },
   "source": [
    "# BONUS: In what year was the first Superman Movie made?"
   ]
  },
  {
   "cell_type": "code",
   "execution_count": null,
   "metadata": {
    "collapsed": false,
    "slideshow": {
     "slide_type": "fragment"
    }
   },
   "outputs": [],
   "source": [
    "character_id = '4005-1807'"
   ]
  },
  {
   "cell_type": "code",
   "execution_count": null,
   "metadata": {
    "collapsed": true
   },
   "outputs": [],
   "source": []
  },
  {
   "cell_type": "code",
   "execution_count": null,
   "metadata": {
    "collapsed": true
   },
   "outputs": [],
   "source": []
  },
  {
   "cell_type": "code",
   "execution_count": null,
   "metadata": {
    "collapsed": true
   },
   "outputs": [],
   "source": []
  },
  {
   "cell_type": "markdown",
   "metadata": {
    "slideshow": {
     "slide_type": "slide"
    }
   },
   "source": [
    "# BONUS: In what city and state are the publishers of Ironman based?"
   ]
  },
  {
   "cell_type": "code",
   "execution_count": null,
   "metadata": {
    "collapsed": false,
    "slideshow": {
     "slide_type": "fragment"
    }
   },
   "outputs": [],
   "source": [
    "character_id = '4005-1455'"
   ]
  },
  {
   "cell_type": "code",
   "execution_count": null,
   "metadata": {
    "collapsed": true
   },
   "outputs": [],
   "source": []
  },
  {
   "cell_type": "code",
   "execution_count": null,
   "metadata": {
    "collapsed": true
   },
   "outputs": [],
   "source": []
  },
  {
   "cell_type": "code",
   "execution_count": null,
   "metadata": {
    "collapsed": true
   },
   "outputs": [],
   "source": []
  },
  {
   "cell_type": "code",
   "execution_count": null,
   "metadata": {
    "collapsed": true
   },
   "outputs": [],
   "source": []
  }
 ],
 "metadata": {
  "anaconda-cloud": {},
  "kernelspec": {
   "display_name": "Python 3",
   "language": "python",
   "name": "python3"
  },
  "language_info": {
   "codemirror_mode": {
    "name": "ipython",
    "version": 3
   },
   "file_extension": ".py",
   "mimetype": "text/x-python",
   "name": "python",
   "nbconvert_exporter": "python",
   "pygments_lexer": "ipython3",
   "version": "3.5.1"
  }
 },
 "nbformat": 4,
 "nbformat_minor": 1
}
